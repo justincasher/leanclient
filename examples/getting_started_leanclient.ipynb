{
  "cells": [
    {
      "cell_type": "markdown",
      "source": [
        "### Getting started with leanclient\n",
        "\n",
        "leanclient allows for easy interaction with the [lean4 theorem prover](https://github.com/leanprover/lean4) using the [Language Server Protocol](https://microsoft.github.io/language-server-protocol/specifications/lsp/3.17/specification/).\n",
        "\n",
        "This notebook shows a minimal example for how to setup and use leanclient.\n",
        "\n",
        "- leanclient does **not create/manage lean projects**. You should create your own project, e.g. in vscode, and then point leanclient at the root folder (where lakefile.toml is located). See below for an example setup.\n",
        "\n",
        "- Running this on Google Colab is **slow for larger projects** (e.g. including mathlib). In general, performance is reduced in notebooks.\n",
        "\n",
        "Check out the [documentation](https://leanclient.readthedocs.io/en/latest/) and the [github repository](https://github.com/oOo0oOo/leanclient) for more information."
      ],
      "metadata": {
        "id": "IWlQQcC-rvBs"
      }
    },
    {
      "cell_type": "code",
      "source": [
        "PROJECT_NAME = \"LeanProject\"\n",
        "PROJECT_PATH = PROJECT_NAME + \"/\"\n",
        "LEAN_VERSION = \"v4.14.0\""
      ],
      "metadata": {
        "id": "rBHyfKpYsipG"
      },
      "execution_count": 1,
      "outputs": []
    },
    {
      "cell_type": "code",
      "execution_count": 2,
      "metadata": {
        "id": "4oYR0BAPWBs1",
        "colab": {
          "base_uri": "https://localhost:8080/"
        },
        "outputId": "34a5ed66-7cf5-4681-e7ca-5aa6e855022f",
        "collapsed": true
      },
      "outputs": [
        {
          "output_type": "stream",
          "name": "stdout",
          "text": [
            "\u001b[1minfo:\u001b[0m downloading installer\n",
            "\u001b[1minfo: \u001b[msyncing channel updates for 'stable'\n",
            "\u001b[1minfo: \u001b[mlatest update on stable, lean version v4.15.0\n",
            "\u001b[1minfo: \u001b[mdownloading component 'lean'\n",
            "252.6 MiB / 252.6 MiB (100 %) 105.2 MiB/s ETA:   0 s\n",
            "\u001b[1minfo: \u001b[minstalling component 'lean'\n",
            "\u001b[1minfo: \u001b[mdefault toolchain set to 'stable'\n",
            "\n",
            "  \u001b[1m\u001b[32mstable installed\u001b[m - Lean (version 4.15.0, x86_64-unknown-linux-gnu, commit 11651562caae, Release)\n",
            "\n",
            "\u001b[1minfo: \u001b[mdownloading component 'lean'\n",
            "238.3 MiB / 238.3 MiB (100 %) 178.7 MiB/s ETA:   0 s\n",
            "\u001b[1minfo: \u001b[minstalling component 'lean'\n",
            "\n",
            "  \u001b[1m\u001b[32mleanprover/lean4:v4.14.0 installed\u001b[m - Lean (version 4.14.0, x86_64-unknown-linux-gnu, commit 410fab728470, Release)\n",
            "\n",
            "\u001b[1minfo: \u001b[musing existing install for 'leanprover/lean4:v4.14.0'\n",
            "\u001b[1minfo: \u001b[mdefault toolchain set to 'leanprover/lean4:v4.14.0'\n",
            "\n",
            "  \u001b[1mleanprover/lean4:v4.14.0 unchanged\u001b[m - Lean (version 4.14.0, x86_64-unknown-linux-gnu, commit 410fab728470, Release)\n",
            "\n",
            "/content/LeanProject\n",
            "\u001b[1;34minfo:\u001b[m LeanProject: no previous manifest, creating one from scratch\n",
            "\u001b[1;34minfo:\u001b[m toolchain not updated; already up-to-date\n",
            "Build completed successfully.\n",
            "/content\n"
          ]
        }
      ],
      "source": [
        "# Setup elan, lean, and a new project\n",
        "!curl https://raw.githubusercontent.com/leanprover/elan/master/elan-init.sh -sSf | sh -s -- -y\n",
        "\n",
        "import os\n",
        "os.environ[\"PATH\"] = os.path.expanduser(\"~/.elan/bin\") + \":\" + os.environ[\"PATH\"]\n",
        "\n",
        "!elan toolchain install leanprover/lean4:{LEAN_VERSION}\n",
        "!elan default leanprover/lean4:{LEAN_VERSION}\n",
        "\n",
        "!lake new {PROJECT_NAME}\n",
        "%cd {PROJECT_NAME}\n",
        "!lake build\n",
        "%cd .."
      ]
    },
    {
      "cell_type": "code",
      "source": [
        "# Install leanclient\n",
        "!pip install leanclient"
      ],
      "metadata": {
        "colab": {
          "base_uri": "https://localhost:8080/"
        },
        "collapsed": true,
        "id": "LzCRGnimkjiO",
        "outputId": "57b6c525-4e29-46f0-c19d-3ca8ee3c9b1f"
      },
      "execution_count": 3,
      "outputs": [
        {
          "output_type": "stream",
          "name": "stdout",
          "text": [
            "Collecting leanclient\n",
            "  Downloading leanclient-0.1.0b1-py3-none-any.whl.metadata (3.1 kB)\n",
            "Collecting orjson<4.0.0,>=3.10.13 (from leanclient)\n",
            "  Downloading orjson-3.10.13-cp310-cp310-manylinux_2_17_x86_64.manylinux2014_x86_64.whl.metadata (41 kB)\n",
            "\u001b[2K     \u001b[90m━━━━━━━━━━━━━━━━━━━━━━━━━━━━━━━━━━━━━━━━\u001b[0m \u001b[32m41.8/41.8 kB\u001b[0m \u001b[31m3.2 MB/s\u001b[0m eta \u001b[36m0:00:00\u001b[0m\n",
            "\u001b[?25hDownloading leanclient-0.1.0b1-py3-none-any.whl (14 kB)\n",
            "Downloading orjson-3.10.13-cp310-cp310-manylinux_2_17_x86_64.manylinux2014_x86_64.whl (131 kB)\n",
            "\u001b[2K   \u001b[90m━━━━━━━━━━━━━━━━━━━━━━━━━━━━━━━━━━━━━━━━\u001b[0m \u001b[32m131.3/131.3 kB\u001b[0m \u001b[31m11.7 MB/s\u001b[0m eta \u001b[36m0:00:00\u001b[0m\n",
            "\u001b[?25hInstalling collected packages: orjson, leanclient\n",
            "  Attempting uninstall: orjson\n",
            "    Found existing installation: orjson 3.10.12\n",
            "    Uninstalling orjson-3.10.12:\n",
            "      Successfully uninstalled orjson-3.10.12\n",
            "Successfully installed leanclient-0.1.0b1 orjson-3.10.13\n"
          ]
        }
      ]
    },
    {
      "cell_type": "code",
      "source": [
        "from pprint import pprint\n",
        "import leanclient as lc\n",
        "\n",
        "# Create client and point it to the root folder of the project.\n",
        "# This is where lakefile.toml is located.\n",
        "client = lc.LeanLSPClient(PROJECT_PATH)\n",
        "\n",
        "# Use a SingleFileClient for simple interactions with a file.\n",
        "# This file is a very simple template created during project init.\n",
        "sfc = client.create_file_client(\"LeanProject/Basic.lean\")\n",
        "\n",
        "# Query the language server!\n",
        "symbols = sfc.get_document_symbol()\n",
        "tokens = sfc.get_semantic_tokens()\n",
        "term_goal = sfc.get_term_goal(0, 20)\n",
        "\n",
        "print(\"Symbols:\")\n",
        "pprint(symbols)\n",
        "\n",
        "print(\"\\nSemantic tokens:\")\n",
        "pprint(tokens)\n",
        "\n",
        "print(\"\\nTerm goal:\")\n",
        "pprint(term_goal)\n",
        "\n",
        "# Always close the client when you're done.\n",
        "client.close()"
      ],
      "metadata": {
        "colab": {
          "base_uri": "https://localhost:8080/"
        },
        "id": "PXaxbpHkGbfZ",
        "outputId": "87c18901-bb47-4dcb-dc8e-8f789e52089d"
      },
      "execution_count": 4,
      "outputs": [
        {
          "output_type": "stream",
          "name": "stdout",
          "text": [
            "Symbols:\n",
            "[{'kind': 6,\n",
            "  'name': 'hello',\n",
            "  'range': {'end': {'character': 20, 'line': 0},\n",
            "            'start': {'character': 0, 'line': 0}},\n",
            "  'selectionRange': {'end': {'character': 9, 'line': 0},\n",
            "                     'start': {'character': 4, 'line': 0}}}]\n",
            "\n",
            "Semantic tokens:\n",
            "[[0, 0, 3, 'keyword']]\n",
            "\n",
            "Term goal:\n",
            "{'goal': '⊢ String',\n",
            " 'range': {'end': {'character': 20, 'line': 0},\n",
            "           'start': {'character': 13, 'line': 0}}}\n"
          ]
        }
      ]
    },
    {
      "cell_type": "code",
      "source": [
        "# Batch processing of files in parallel (multiprocessing) is easy using the LeanClientPool.\n",
        "\n",
        "files = [\"LeanProject/Basic.lean\", \"Main.lean\"]\n",
        "\n",
        "# Define a function which accepts a SingleFileClient as its only parameter.\n",
        "def count_tokens(client: lc.SingleFileClient):\n",
        "  return len(client.get_semantic_tokens())\n",
        "\n",
        "with lc.LeanClientPool(PROJECT_PATH, num_workers=2) as pool:\n",
        "  results = pool.map(count_tokens, files)\n",
        "\n",
        "  # You can also use pool.submit() for increased control\n",
        "  futures = [pool.submit(count_tokens, path) for path in files]\n",
        "  fut_res = [f.get() for f in futures]\n",
        "\n",
        "print(\"Number of tokens in each file:\")\n",
        "pprint(results)"
      ],
      "metadata": {
        "colab": {
          "base_uri": "https://localhost:8080/"
        },
        "id": "GRgRpPy401Si",
        "outputId": "88133fbf-5fbc-43cc-bf6a-60c1870bd11f"
      },
      "execution_count": 5,
      "outputs": [
        {
          "output_type": "stream",
          "name": "stdout",
          "text": [
            "Number of tokens in each file:\n",
            "[1, 3]\n"
          ]
        }
      ]
    },
    {
      "cell_type": "markdown",
      "source": [
        "### All done!\n",
        "\n",
        "Change the contents of the file (click the folder on the left) `LeanProject/LeanProject/Basic.lean` and rerun the code above.\n",
        "\n",
        "For example, you could add this theorem:\n",
        "\n",
        "```lean\n",
        "-- Define a simple theorem: for any natural number n, n + 0 = n\n",
        "theorem add_zero_custom (n : Nat) : n + 0 = n := by\n",
        "  -- Use induction on n\n",
        "  induction n with\n",
        "  | zero =>\n",
        "    -- Base case: 0 + 0 = 0\n",
        "    rfl\n",
        "  | succ n' ih =>\n",
        "    -- Inductive step: assume n' + 0 = n', prove (n' + 1) + 0 = (n' + 1)\n",
        "    rw [Nat.add_succ, ih]\n",
        "```\n",
        "\n",
        "### Next\n",
        "\n",
        "Check out the [documentation](https://leanclient.readthedocs.io/en/latest/) for more information on leanclient!"
      ],
      "metadata": {
        "id": "hOPWQet6iUvx"
      }
    }
  ],
  "metadata": {
    "colab": {
      "provenance": []
    },
    "kernelspec": {
      "display_name": "Python 3",
      "name": "python3"
    },
    "language_info": {
      "name": "python"
    }
  },
  "nbformat": 4,
  "nbformat_minor": 0
}